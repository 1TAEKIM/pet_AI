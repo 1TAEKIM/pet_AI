{
 "cells": [
  {
   "cell_type": "code",
   "execution_count": null,
   "metadata": {},
   "outputs": [],
   "source": [
    "import tensorflow as tf\n",
    "from tensorflow.keras import layers, models\n",
    "\n",
    "# U-Net 모델 정의\n",
    "def unet_model():\n",
    "    inputs = layers.Input((256, 256, 3))\n",
    "    \n",
    "    # 인코더\n",
    "    conv1 = layers.Conv2D(64, 3, activation='relu', padding='same')(inputs)\n",
    "    conv1 = layers.Conv2D(64, 3, activation='relu', padding='same')(conv1)\n",
    "    pool1 = layers.MaxPooling2D(pool_size=(2, 2))(conv1)\n",
    "\n",
    "    conv2 = layers.Conv2D(128, 3, activation='relu', padding='same')(pool1)\n",
    "    conv2 = layers.Conv2D(128, 3, activation='relu', padding='same')(conv2)\n",
    "    pool2 = layers.MaxPooling2D(pool_size=(2, 2))(conv2)\n",
    "\n",
    "    # 디코더\n",
    "    conv3 = layers.Conv2D(256, 3, activation='relu', padding='same')(pool2)\n",
    "    conv3 = layers.Conv2D(256, 3, activation='relu', padding='same')(conv3)\n",
    "    up1 = layers.UpSampling2D(size=(2, 2))(conv3)\n",
    "\n",
    "    up1 = layers.concatenate([up1, conv2], axis=3)\n",
    "    conv4 = layers.Conv2D(128, 3, activation='relu', padding='same')(up1)\n",
    "    conv4 = layers.Conv2D(128, 3, activation='relu', padding='same')(conv4)\n",
    "    up2 = layers.UpSampling2D(size=(2, 2))(conv4)\n",
    "\n",
    "    up2 = layers.concatenate([up2, conv1], axis=3)\n",
    "    conv5 = layers.Conv2D(64, 3, activation='relu', padding='same')(up2)\n",
    "    conv5 = layers.Conv2D(64, 3, activation='relu', padding='same')(conv5)\n",
    "\n",
    "    outputs = layers.Conv2D(1, 1, activation='sigmoid')(conv5)\n",
    "\n",
    "    model = models.Model(inputs=inputs, outputs=outputs)\n",
    "    return model\n",
    "\n",
    "# 모델 컴파일\n",
    "model = unet_model()\n",
    "model.compile(optimizer='adam', loss='binary_crossentropy', metrics=['accuracy'])\n",
    "\n",
    "# 훈련 데이터셋 준비\n",
    "# 입력 이미지와 해당 마스크(레이블)를 사용하여 데이터셋을 준비해야 합니다.\n",
    "# 이 코드에서는 입력 이미지와 마스크를 불러오고 전처리하는 부분을 작성해야 합니다.\n",
    "# 데이터셋을 불러와서 배치로 나누는 등의 작업이 필요합니다.\n",
    "\n",
    "# 모델 훈련\n",
    "# model.fit() 메서드를 사용하여 모델을 훈련시킵니다.\n",
    "# 데이터셋을 사용하여 훈련할 때는 모델의 입력과 출력을 정확히 매칭시켜야 합니다.\n",
    "# 예를 들어, 입력 이미지에 대한 예측 마스크를 출력하는 U-Net 모델의 경우\n",
    "# 입력과 출력을 매칭하여 fit() 메서드에 전달해야 합니다.\n"
   ]
  }
 ],
 "metadata": {
  "language_info": {
   "name": "python"
  }
 },
 "nbformat": 4,
 "nbformat_minor": 2
}
